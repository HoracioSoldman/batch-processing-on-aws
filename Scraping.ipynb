{
 "cells": [
  {
   "cell_type": "markdown",
   "metadata": {},
   "source": [
    "## Web Scrapping\n",
    "Scraping the TFL website: (https://cycling.data.tfl.gov.uk) in order to get the links of the files we are interested in."
   ]
  },
  {
   "cell_type": "code",
   "execution_count": 7,
   "metadata": {},
   "outputs": [
    {
     "name": "stdout",
     "output_type": "stream",
     "text": [
      "/usr/lib/python3/dist-packages/secretstorage/dhcrypto.py:15: CryptographyDeprecationWarning: int_from_bytes is deprecated, use int.from_bytes instead\n",
      "  from cryptography.utils import int_from_bytes\n",
      "/usr/lib/python3/dist-packages/secretstorage/util.py:19: CryptographyDeprecationWarning: int_from_bytes is deprecated, use int.from_bytes instead\n",
      "  from cryptography.utils import int_from_bytes\n",
      "Defaulting to user installation because normal site-packages is not writeable\n",
      "Requirement already satisfied: selenium in /home/hrc/.local/lib/python3.8/site-packages (4.1.0)\n",
      "Requirement already satisfied: trio-websocket~=0.9 in /home/hrc/.local/lib/python3.8/site-packages (from selenium) (0.9.2)\n",
      "Requirement already satisfied: trio~=0.17 in /home/hrc/.local/lib/python3.8/site-packages (from selenium) (0.19.0)\n",
      "Requirement already satisfied: urllib3[secure]~=1.26 in /home/hrc/.local/lib/python3.8/site-packages (from selenium) (1.26.7)\n",
      "Requirement already satisfied: async-generator>=1.9 in /home/hrc/.local/lib/python3.8/site-packages (from trio~=0.17->selenium) (1.10)\n",
      "Requirement already satisfied: sniffio in /home/hrc/.local/lib/python3.8/site-packages (from trio~=0.17->selenium) (1.2.0)\n",
      "Requirement already satisfied: outcome in /home/hrc/.local/lib/python3.8/site-packages (from trio~=0.17->selenium) (1.1.0)\n",
      "Requirement already satisfied: idna in /home/hrc/.local/lib/python3.8/site-packages (from trio~=0.17->selenium) (3.3)\n",
      "Requirement already satisfied: attrs>=19.2.0 in /home/hrc/.local/lib/python3.8/site-packages (from trio~=0.17->selenium) (20.3.0)\n",
      "Requirement already satisfied: sortedcontainers in /home/hrc/.local/lib/python3.8/site-packages (from trio~=0.17->selenium) (2.4.0)\n",
      "Requirement already satisfied: wsproto>=0.14 in /home/hrc/.local/lib/python3.8/site-packages (from trio-websocket~=0.9->selenium) (1.0.0)\n",
      "Requirement already satisfied: cryptography>=1.3.4 in /home/hrc/.local/lib/python3.8/site-packages (from urllib3[secure]~=1.26->selenium) (36.0.1)\n",
      "Requirement already satisfied: certifi in /home/hrc/.local/lib/python3.8/site-packages (from urllib3[secure]~=1.26->selenium) (2021.10.8)\n",
      "Requirement already satisfied: pyOpenSSL>=0.14 in /home/hrc/.local/lib/python3.8/site-packages (from urllib3[secure]~=1.26->selenium) (22.0.0)\n",
      "Requirement already satisfied: cffi>=1.12 in /home/hrc/.local/lib/python3.8/site-packages (from cryptography>=1.3.4->urllib3[secure]~=1.26->selenium) (1.15.0)\n",
      "Requirement already satisfied: h11<1,>=0.9.0 in /home/hrc/.local/lib/python3.8/site-packages (from wsproto>=0.14->trio-websocket~=0.9->selenium) (0.12.0)\n",
      "Requirement already satisfied: pycparser in /home/hrc/.local/lib/python3.8/site-packages (from cffi>=1.12->cryptography>=1.3.4->urllib3[secure]~=1.26->selenium) (2.21)\n",
      "\u001b[33mWARNING: You are using pip version 21.3.1; however, version 22.0.3 is available.\n",
      "You should consider upgrading via the '/usr/bin/python3 -m pip install --upgrade pip' command.\u001b[0m\n",
      "/usr/lib/python3/dist-packages/secretstorage/dhcrypto.py:15: CryptographyDeprecationWarning: int_from_bytes is deprecated, use int.from_bytes instead\n",
      "  from cryptography.utils import int_from_bytes\n",
      "/usr/lib/python3/dist-packages/secretstorage/util.py:19: CryptographyDeprecationWarning: int_from_bytes is deprecated, use int.from_bytes instead\n",
      "  from cryptography.utils import int_from_bytes\n",
      "Defaulting to user installation because normal site-packages is not writeable\n",
      "Requirement already satisfied: bs4 in /home/hrc/.local/lib/python3.8/site-packages (0.0.1)\n",
      "Requirement already satisfied: beautifulsoup4 in /home/hrc/.local/lib/python3.8/site-packages (from bs4) (4.10.0)\n",
      "Requirement already satisfied: soupsieve>1.2 in /home/hrc/.local/lib/python3.8/site-packages (from beautifulsoup4->bs4) (2.3.1)\n",
      "\u001b[33mWARNING: You are using pip version 21.3.1; however, version 22.0.3 is available.\n",
      "You should consider upgrading via the '/usr/bin/python3 -m pip install --upgrade pip' command.\u001b[0m\n"
     ]
    }
   ],
   "source": [
    "# install dependencies\n",
    "!pip install selenium\n",
    "!pip install bs4"
   ]
  },
  {
   "cell_type": "code",
   "execution_count": 8,
   "metadata": {},
   "outputs": [],
   "source": [
    "# imports\n",
    "from bs4 import BeautifulSoup\n",
    "\n",
    "# selenium will be used to scrap dynamic content of the webpage source of our data\n",
    "from selenium import webdriver\n",
    "from webdriver_manager.firefox import GeckoDriverManager\n",
    "from selenium.webdriver.firefox.options import Options as FirefoxOptions\n",
    "from selenium.webdriver.common.desired_capabilities import DesiredCapabilities\n",
    "\n",
    "from selenium.webdriver.common.by import By\n",
    "from selenium.webdriver.support.ui import WebDriverWait\n",
    "from selenium.webdriver.support import expected_conditions as EC"
   ]
  },
  {
   "cell_type": "code",
   "execution_count": 9,
   "metadata": {},
   "outputs": [
    {
     "name": "stderr",
     "output_type": "stream",
     "text": [
      "\n",
      "\n",
      "====== WebDriver manager ======\n",
      "Current firefox version is 96.0\n",
      "Get LATEST geckodriver version for 96.0 firefox\n",
      "Getting latest mozilla release info for v0.30.0\n",
      "Trying to download new driver from https://github.com/mozilla/geckodriver/releases/download/v0.30.0/geckodriver-v0.30.0-linux64.tar.gz\n",
      "Driver has been saved in cache [/home/hrc/.wdm/drivers/geckodriver/linux64/v0.30.0]\n",
      "/tmp/ipykernel_373988/1338734867.py:11: DeprecationWarning: executable_path has been deprecated, please pass in a Service object\n",
      "  browser = webdriver.Firefox(capabilities=cap, executable_path=GeckoDriverManager().install(), options=options)\n",
      "/tmp/ipykernel_373988/1338734867.py:11: DeprecationWarning: capabilities and desired_capabilities have been deprecated, please pass in a Service object\n",
      "  browser = webdriver.Firefox(capabilities=cap, executable_path=GeckoDriverManager().install(), options=options)\n"
     ]
    }
   ],
   "source": [
    "# get the webpage contents in html format\n",
    "\n",
    "url= \"https://cycling.data.tfl.gov.uk\"\n",
    "\n",
    "cap = DesiredCapabilities().FIREFOX\n",
    "cap[\"marionette\"] = False\n",
    "\n",
    "options = FirefoxOptions()\n",
    "options.add_argument(\"--headless\")\n",
    "\n",
    "browser = webdriver.Firefox(capabilities=cap, executable_path=GeckoDriverManager().install(), options=options)\n",
    "browser.get(url)\n",
    "\n",
    "# wait until at least a single element of the table exists\n",
    "wait = WebDriverWait(browser, 20)\n",
    "html = wait.until(EC.presence_of_element_located((By.XPATH, '/html/body/div[2]/table/tbody/tr[1]/td[1]')))\n",
    "\n",
    "html_element= browser.page_source\n"
   ]
  },
  {
   "cell_type": "code",
   "execution_count": 10,
   "metadata": {},
   "outputs": [],
   "source": [
    "# scrap the html contents\n",
    "bsoup= BeautifulSoup(html_element, \"html.parser\")"
   ]
  },
  {
   "cell_type": "code",
   "execution_count": 11,
   "metadata": {},
   "outputs": [
    {
     "name": "stdout",
     "output_type": "stream",
     "text": [
      "Display 2 items in the dictionary\n",
      "{'05Jan2021': 'https://cycling.data.tfl.gov.uk/usage-stats/246JourneyDataExtract30Dec2020-05Jan2021.csv', '12Jan2021': 'https://cycling.data.tfl.gov.uk/usage-stats/247JourneyDataExtract06Jan2021-12Jan2021.csv'}\n"
     ]
    }
   ],
   "source": [
    "# find the relevant files with their links\n",
    "table= bsoup.find('table')\n",
    "tbody= table.find('tbody')\n",
    "folder_name= \"usage-stats/\"\n",
    "capture_files= False\n",
    "year= 2021\n",
    "filetype= 'csv'\n",
    "extracted_files= {}\n",
    "\n",
    "for row in tbody.find_all('tr'):\n",
    "    columns= row.find_all('td')\n",
    "\n",
    "    if capture_files == False:\n",
    "        col_values= [col.text.strip() for col in columns]\n",
    "\n",
    "        if col_values[0] == folder_name:\n",
    "            capture_files= True\n",
    "            continue\n",
    "\n",
    "    else:\n",
    "        col= columns[0]\n",
    "        filename= col.text.strip()\n",
    "        \n",
    "        if not filename.endswith(f'{year}.{filetype}'):\n",
    "            continue\n",
    "        \n",
    "        # extract the date\n",
    "        filename_without_extension= filename.replace(f'.{filetype}', '') \n",
    "        filename_last_date= filename_without_extension.split('-')[-1]\n",
    "        extracted_files[filename_last_date]= col.a['href']\n",
    "\n",
    "print('Display 2 items in the dictionary')\n",
    "print(dict(list(extracted_files.items())[0:2]))"
   ]
  }
 ],
 "metadata": {
  "interpreter": {
   "hash": "916dbcbb3f70747c44a77c7bcd40155683ae19c65e1c03b4aa3499c5328201f1"
  },
  "kernelspec": {
   "display_name": "Python 3.8.10 64-bit",
   "language": "python",
   "name": "python3"
  },
  "language_info": {
   "codemirror_mode": {
    "name": "ipython",
    "version": 3
   },
   "file_extension": ".py",
   "mimetype": "text/x-python",
   "name": "python",
   "nbconvert_exporter": "python",
   "pygments_lexer": "ipython3",
   "version": "3.8.10"
  },
  "orig_nbformat": 4
 },
 "nbformat": 4,
 "nbformat_minor": 2
}
