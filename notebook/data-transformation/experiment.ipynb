{
 "cells": [
  {
   "cell_type": "markdown",
   "id": "d20b3aba",
   "metadata": {},
   "source": [
    "## One time data transformation\n",
    "In this notebook, we are going to transform the stations and weather data in such a way that they will be conformed to the redshift schema for their corresponding tables.\n",
    "\n",
    "The preprocessed data will be saved back to S3 before getting loaded to Redshift."
   ]
  },
  {
   "cell_type": "code",
   "execution_count": 1,
   "id": "d18f0fe2",
   "metadata": {},
   "outputs": [],
   "source": [
    "import pyspark\n",
    "import os"
   ]
  },
  {
   "cell_type": "code",
   "execution_count": 2,
   "id": "fc380d3d",
   "metadata": {},
   "outputs": [
    {
     "data": {
      "text/plain": [
       "'3.2.1'"
      ]
     },
     "execution_count": 2,
     "metadata": {},
     "output_type": "execute_result"
    }
   ],
   "source": [
    "pyspark.__version__"
   ]
  },
  {
   "cell_type": "code",
   "execution_count": 3,
   "id": "42c52993",
   "metadata": {},
   "outputs": [],
   "source": [
    "from pyspark.sql import SparkSession"
   ]
  },
  {
   "cell_type": "code",
   "execution_count": 4,
   "id": "3f382bf9",
   "metadata": {},
   "outputs": [
    {
     "name": "stderr",
     "output_type": "stream",
     "text": [
      "WARNING: An illegal reflective access operation has occurred\n",
      "WARNING: Illegal reflective access by org.apache.spark.unsafe.Platform (file:/home/hrc/Documents/de-aws/data-venv/lib/python3.8/site-packages/pyspark/jars/spark-unsafe_2.12-3.2.1.jar) to constructor java.nio.DirectByteBuffer(long,int)\n",
      "WARNING: Please consider reporting this to the maintainers of org.apache.spark.unsafe.Platform\n",
      "WARNING: Use --illegal-access=warn to enable warnings of further illegal reflective access operations\n",
      "WARNING: All illegal access operations will be denied in a future release\n",
      "Using Spark's default log4j profile: org/apache/spark/log4j-defaults.properties\n",
      "Setting default log level to \"WARN\".\n",
      "To adjust logging level use sc.setLogLevel(newLevel). For SparkR, use setLogLevel(newLevel).\n",
      "22/03/05 23:56:44 WARN NativeCodeLoader: Unable to load native-hadoop library for your platform... using builtin-java classes where applicable\n"
     ]
    }
   ],
   "source": [
    "spark = SparkSession.builder \\\n",
    "        .master('local[*]') \\\n",
    "        .appName('data-transformer') \\\n",
    "        .config(\"spark.hadoop.fs.s3a.access.key\", os.environ.get('AWS_ACCESS_KEY'))\\\n",
    "        .config(\"spark.hadoop.fs.s3a.secret.key\", os.environ.get('AWS_SECRET_ACCESS_KEY'))\\\n",
    "        .getOrCreate()"
   ]
  },
  {
   "cell_type": "code",
   "execution_count": 5,
   "id": "388ae2f2",
   "metadata": {},
   "outputs": [
    {
     "data": {
      "text/plain": [
       "'3.3.1'"
      ]
     },
     "execution_count": 5,
     "metadata": {},
     "output_type": "execute_result"
    }
   ],
   "source": [
    "sc = spark.sparkContext\n",
    "sc._jvm.org.apache.hadoop.util.VersionInfo.getVersion()"
   ]
  },
  {
   "cell_type": "markdown",
   "id": "50ba85e8",
   "metadata": {},
   "source": [
    "###  1. Stations data"
   ]
  },
  {
   "cell_type": "code",
   "execution_count": 6,
   "id": "ae6e918b",
   "metadata": {},
   "outputs": [
    {
     "name": "stderr",
     "output_type": "stream",
     "text": [
      "22/03/01 18:05:51 WARN MetricsConfig: Cannot locate configuration: tried hadoop-metrics2-s3a-file-system.properties,hadoop-metrics2.properties\n",
      "                                                                                \r"
     ]
    }
   ],
   "source": [
    "df_stations = spark.read.csv(\"s3a://hrc-de-data/raw/cycling-extras/stations.csv\", inferSchema=True, header=True)"
   ]
  },
  {
   "cell_type": "code",
   "execution_count": 7,
   "id": "0ceaf5ce",
   "metadata": {},
   "outputs": [
    {
     "data": {
      "text/plain": [
       "[Row(Station.Id=1, StationName='River Street, Clerkenwell', longitude=-0.109971, latitude=51.5292, Easting=531202.52, Northing=182832.02),\n",
       " Row(Station.Id=2, StationName='Phillimore Gardens, Kensington', longitude=-0.197574, latitude=51.4996, Easting=525207.07, Northing=179391.86)]"
      ]
     },
     "execution_count": 7,
     "metadata": {},
     "output_type": "execute_result"
    }
   ],
   "source": [
    "df_stations.take(2)"
   ]
  },
  {
   "cell_type": "code",
   "execution_count": 8,
   "id": "4533a36e",
   "metadata": {},
   "outputs": [
    {
     "name": "stdout",
     "output_type": "stream",
     "text": [
      "root\n",
      " |-- Station.Id: integer (nullable = true)\n",
      " |-- StationName: string (nullable = true)\n",
      " |-- longitude: double (nullable = true)\n",
      " |-- latitude: double (nullable = true)\n",
      " |-- Easting: double (nullable = true)\n",
      " |-- Northing: double (nullable = true)\n",
      "\n"
     ]
    }
   ],
   "source": [
    "df_stations.printSchema()"
   ]
  },
  {
   "cell_type": "code",
   "execution_count": 11,
   "id": "766eb9a2",
   "metadata": {},
   "outputs": [],
   "source": [
    "from pyspark.sql import functions as F, types as T"
   ]
  },
  {
   "cell_type": "code",
   "execution_count": 10,
   "id": "6cbf6baf",
   "metadata": {},
   "outputs": [],
   "source": [
    "# rename columns\n",
    "stations= df_stations.withColumnRenamed('Station.Id', 'station_id') \\\n",
    "                        .withColumnRenamed('StationName', 'station_name') \\\n",
    "                        .withColumnRenamed('easting', 'easting') \\\n",
    "                        .withColumnRenamed('northing', 'northing') "
   ]
  },
  {
   "cell_type": "code",
   "execution_count": 11,
   "id": "7d9360c5",
   "metadata": {
    "scrolled": false
   },
   "outputs": [
    {
     "name": "stdout",
     "output_type": "stream",
     "text": [
      "+----------+--------------------+----------+--------+----------+----------+\n",
      "|station_id|        station_name| longitude|latitude|   easting|  northing|\n",
      "+----------+--------------------+----------+--------+----------+----------+\n",
      "|         1|River Street, Cle...| -0.109971| 51.5292| 531202.52| 182832.02|\n",
      "|         2|Phillimore Garden...| -0.197574| 51.4996| 525207.07| 179391.86|\n",
      "|         3|Christopher Stree...|-0.0846057| 51.5213| 532984.81| 182001.53|\n",
      "|         4|St. Chad's Street...| -0.120974| 51.5301| 530436.76| 182911.99|\n",
      "|         5|Sedding Street, S...| -0.156876| 51.4931|528051.649|178742.097|\n",
      "+----------+--------------------+----------+--------+----------+----------+\n",
      "only showing top 5 rows\n",
      "\n"
     ]
    }
   ],
   "source": [
    "stations.show(5)"
   ]
  },
  {
   "cell_type": "code",
   "execution_count": 12,
   "id": "88468f5d",
   "metadata": {
    "scrolled": true
   },
   "outputs": [
    {
     "name": "stdout",
     "output_type": "stream",
     "text": [
      "+----------+------------+---------+--------+-------+--------+\n",
      "|station_id|station_name|longitude|latitude|easting|northing|\n",
      "+----------+------------+---------+--------+-------+--------+\n",
      "|         0|           0|        0|       0|      0|       0|\n",
      "+----------+------------+---------+--------+-------+--------+\n",
      "\n"
     ]
    }
   ],
   "source": [
    "# count missing values in each column\n",
    "stations.select([F.count(F.when(F.isnan(c) | F.col(c).isNull(), c)).alias(c) for c in stations.columns]\n",
    "   ).show()"
   ]
  },
  {
   "cell_type": "code",
   "execution_count": 17,
   "id": "d0ee0f23",
   "metadata": {},
   "outputs": [
    {
     "name": "stderr",
     "output_type": "stream",
     "text": [
      "                                                                                \r"
     ]
    }
   ],
   "source": [
    "stations.write.parquet('s3a://hrc-de-data/processed/cycling-dimension/stations/', mode='overwrite')"
   ]
  },
  {
   "cell_type": "markdown",
   "id": "ef3f5de0",
   "metadata": {},
   "source": [
    "### 2. Weather data"
   ]
  },
  {
   "cell_type": "code",
   "execution_count": 6,
   "id": "c41101c2",
   "metadata": {},
   "outputs": [
    {
     "name": "stderr",
     "output_type": "stream",
     "text": [
      "22/03/05 23:57:03 WARN MetricsConfig: Cannot locate configuration: tried hadoop-metrics2-s3a-file-system.properties,hadoop-metrics2.properties\n",
      "                                                                                \r"
     ]
    }
   ],
   "source": [
    "df_weather = spark.read.json(\"s3a://hrc-de-data/raw/cycling-extras/weather.json\")"
   ]
  },
  {
   "cell_type": "code",
   "execution_count": 7,
   "id": "3203cde3",
   "metadata": {},
   "outputs": [
    {
     "name": "stderr",
     "output_type": "stream",
     "text": [
      "22/03/05 23:57:19 WARN package: Truncated the string representation of a plan since it was too large. This behavior can be adjusted by setting 'spark.sql.debug.maxToStringFields'.\n",
      "                                                                                \r"
     ]
    },
    {
     "data": {
      "text/plain": [
       "[Row(cloudcover=0.5, conditions='Rain', datetime='2021-01-01', datetimeEpoch=1609459200, description='Clear conditions throughout the day with late afternoon rain.', dew=0.8, feelslike=-0.2, feelslikemax=2.9, feelslikemin=-3.6, humidity=91.03, icon='rain', moonphase=0.53, precip=0.22, precipcover=4.17, precipprob=None, preciptype=None, pressure=1011.6, severerisk=None, snow=None, snowdepth=None, solarenergy=0.8, solarradiation=29.4, source='obs', stations=['03769099999', '03680099999', 'D5621', '03672099999', '03781099999', '03772099999', '03770099999'], sunrise='08:06:14', sunriseEpoch=1609488374, sunset='16:02:22', sunsetEpoch=1609516942, temp=2.1, tempmax=5.0, tempmin=-0.5, tzoffset=None, uvindex=0.0, visibility=2.6, winddir=304.0, windgust=None, windspeed=6.6),\n",
       " Row(cloudcover=0.5, conditions='Rain', datetime='2021-01-02', datetimeEpoch=1609545600, description='Clear conditions throughout the day with rain.', dew=1.0, feelslike=1.5, feelslikemax=3.1, feelslikemin=-1.5, humidity=82.51, icon='rain', moonphase=0.56, precip=0.6, precipcover=8.33, precipprob=None, preciptype=None, pressure=1015.9, severerisk=None, snow=None, snowdepth=None, solarenergy=1.3, solarradiation=43.9, source='obs', stations=['03680099999', 'D5621', '03672099999', '03781099999', '03772099999', '03770099999'], sunrise='08:06:05', sunriseEpoch=1609574765, sunset='16:03:28', sunsetEpoch=1609603408, temp=3.8, tempmax=5.1, tempmin=1.5, tzoffset=None, uvindex=1.0, visibility=15.1, winddir=299.0, windgust=None, windspeed=7.8)]"
      ]
     },
     "execution_count": 7,
     "metadata": {},
     "output_type": "execute_result"
    }
   ],
   "source": [
    "df_weather.take(2)"
   ]
  },
  {
   "cell_type": "code",
   "execution_count": 8,
   "id": "5474298d",
   "metadata": {},
   "outputs": [
    {
     "name": "stdout",
     "output_type": "stream",
     "text": [
      "root\n",
      " |-- cloudcover: double (nullable = true)\n",
      " |-- conditions: string (nullable = true)\n",
      " |-- datetime: string (nullable = true)\n",
      " |-- datetimeEpoch: long (nullable = true)\n",
      " |-- description: string (nullable = true)\n",
      " |-- dew: double (nullable = true)\n",
      " |-- feelslike: double (nullable = true)\n",
      " |-- feelslikemax: double (nullable = true)\n",
      " |-- feelslikemin: double (nullable = true)\n",
      " |-- humidity: double (nullable = true)\n",
      " |-- icon: string (nullable = true)\n",
      " |-- moonphase: double (nullable = true)\n",
      " |-- precip: double (nullable = true)\n",
      " |-- precipcover: double (nullable = true)\n",
      " |-- precipprob: double (nullable = true)\n",
      " |-- preciptype: array (nullable = true)\n",
      " |    |-- element: string (containsNull = true)\n",
      " |-- pressure: double (nullable = true)\n",
      " |-- severerisk: double (nullable = true)\n",
      " |-- snow: double (nullable = true)\n",
      " |-- snowdepth: double (nullable = true)\n",
      " |-- solarenergy: double (nullable = true)\n",
      " |-- solarradiation: double (nullable = true)\n",
      " |-- source: string (nullable = true)\n",
      " |-- stations: array (nullable = true)\n",
      " |    |-- element: string (containsNull = true)\n",
      " |-- sunrise: string (nullable = true)\n",
      " |-- sunriseEpoch: long (nullable = true)\n",
      " |-- sunset: string (nullable = true)\n",
      " |-- sunsetEpoch: long (nullable = true)\n",
      " |-- temp: double (nullable = true)\n",
      " |-- tempmax: double (nullable = true)\n",
      " |-- tempmin: double (nullable = true)\n",
      " |-- tzoffset: double (nullable = true)\n",
      " |-- uvindex: double (nullable = true)\n",
      " |-- visibility: double (nullable = true)\n",
      " |-- winddir: double (nullable = true)\n",
      " |-- windgust: double (nullable = true)\n",
      " |-- windspeed: double (nullable = true)\n",
      "\n"
     ]
    }
   ],
   "source": [
    "df_weather.printSchema()"
   ]
  },
  {
   "cell_type": "code",
   "execution_count": 9,
   "id": "2e952690",
   "metadata": {},
   "outputs": [],
   "source": [
    "# drop some columns that we won't need\n",
    "weather= df_weather.drop('cloudcover', 'conditions', 'datetimeEpoch', 'description', 'dew', 'icon', \n",
    "                            'precipcover', 'preciptype', 'source', 'stations', 'sunriseEpoch', 'sunsetEpoch')"
   ]
  },
  {
   "cell_type": "code",
   "execution_count": 12,
   "id": "22b9368f",
   "metadata": {},
   "outputs": [],
   "source": [
    "# transform datetime\n",
    "weather= weather.withColumnRenamed('datetime', 'weather_date') \n",
    "weather= weather.withColumn('weather_date', weather.weather_date.cast(T.DateType()))"
   ]
  },
  {
   "cell_type": "code",
   "execution_count": 13,
   "id": "b7d8f370",
   "metadata": {
    "scrolled": true
   },
   "outputs": [
    {
     "name": "stdout",
     "output_type": "stream",
     "text": [
      "root\n",
      " |-- weather_date: date (nullable = true)\n",
      " |-- feelslike: double (nullable = true)\n",
      " |-- feelslikemax: double (nullable = true)\n",
      " |-- feelslikemin: double (nullable = true)\n",
      " |-- humidity: double (nullable = true)\n",
      " |-- moonphase: double (nullable = true)\n",
      " |-- precip: double (nullable = true)\n",
      " |-- precipprob: double (nullable = true)\n",
      " |-- pressure: double (nullable = true)\n",
      " |-- severerisk: double (nullable = true)\n",
      " |-- snow: double (nullable = true)\n",
      " |-- snowdepth: double (nullable = true)\n",
      " |-- solarenergy: double (nullable = true)\n",
      " |-- solarradiation: double (nullable = true)\n",
      " |-- sunrise: string (nullable = true)\n",
      " |-- sunset: string (nullable = true)\n",
      " |-- temp: double (nullable = true)\n",
      " |-- tempmax: double (nullable = true)\n",
      " |-- tempmin: double (nullable = true)\n",
      " |-- tzoffset: double (nullable = true)\n",
      " |-- uvindex: double (nullable = true)\n",
      " |-- visibility: double (nullable = true)\n",
      " |-- winddir: double (nullable = true)\n",
      " |-- windgust: double (nullable = true)\n",
      " |-- windspeed: double (nullable = true)\n",
      "\n",
      "25 columns\n"
     ]
    }
   ],
   "source": [
    "weather.printSchema()\n",
    "print(len(weather.columns), 'columns')"
   ]
  },
  {
   "cell_type": "code",
   "execution_count": null,
   "id": "e065026c",
   "metadata": {},
   "outputs": [],
   "source": []
  },
  {
   "cell_type": "code",
   "execution_count": 18,
   "id": "ac976766",
   "metadata": {},
   "outputs": [
    {
     "name": "stderr",
     "output_type": "stream",
     "text": [
      "\r",
      "[Stage 11:>                                                         (0 + 1) / 1]\r"
     ]
    },
    {
     "name": "stdout",
     "output_type": "stream",
     "text": [
      "+------------+---------+------------+------------+--------+---------+------+----------+--------+----------+----+---------+-----------+--------------+--------+--------+----+-------+-------+--------+-------+----------+-------+--------+---------+\n",
      "|weather_date|feelslike|feelslikemax|feelslikemin|humidity|moonphase|precip|precipprob|pressure|severerisk|snow|snowdepth|solarenergy|solarradiation| sunrise|  sunset|temp|tempmax|tempmin|tzoffset|uvindex|visibility|winddir|windgust|windspeed|\n",
      "+------------+---------+------------+------------+--------+---------+------+----------+--------+----------+----+---------+-----------+--------------+--------+--------+----+-------+-------+--------+-------+----------+-------+--------+---------+\n",
      "|  2021-01-01|     -0.2|         2.9|        -3.6|   91.03|     0.53|  0.22|      null|  1011.6|      null|null|     null|        0.8|          29.4|08:06:14|16:02:22| 2.1|    5.0|   -0.5|    null|    0.0|       2.6|  304.0|    null|      6.6|\n",
      "|  2021-01-02|      1.5|         3.1|        -1.5|   82.51|     0.56|   0.6|      null|  1015.9|      null|null|     null|        1.3|          43.9|08:06:05|16:03:28| 3.8|    5.1|    1.5|    null|    1.0|      15.1|  299.0|    null|      7.8|\n",
      "+------------+---------+------------+------------+--------+---------+------+----------+--------+----------+----+---------+-----------+--------------+--------+--------+----+-------+-------+--------+-------+----------+-------+--------+---------+\n",
      "only showing top 2 rows\n",
      "\n"
     ]
    },
    {
     "name": "stderr",
     "output_type": "stream",
     "text": [
      "\r",
      "                                                                                \r"
     ]
    }
   ],
   "source": [
    "weather.show(2)"
   ]
  },
  {
   "cell_type": "code",
   "execution_count": 27,
   "id": "1d53f1c4",
   "metadata": {},
   "outputs": [
    {
     "name": "stderr",
     "output_type": "stream",
     "text": [
      "\r",
      "[Stage 27:>                                                         (0 + 1) / 1]\r"
     ]
    },
    {
     "name": "stdout",
     "output_type": "stream",
     "text": [
      "+----------------+\n",
      "|missing_tzoffset|\n",
      "+----------------+\n",
      "|             179|\n",
      "+----------------+\n",
      "\n"
     ]
    },
    {
     "name": "stderr",
     "output_type": "stream",
     "text": [
      "\r",
      "                                                                                \r"
     ]
    }
   ],
   "source": [
    "# count missing values in windgust\n",
    "missing_windgust= (\n",
    "    weather.select(\n",
    "        F.count(F.when(F.col('tzoffset').isNull() | F.isnan(F.col('tzoffset')), ''))\n",
    "        .alias('missing_tzoffset'))\n",
    ")\n",
    "missing_windgust.show()"
   ]
  },
  {
   "cell_type": "code",
   "execution_count": 25,
   "id": "e116dc28",
   "metadata": {},
   "outputs": [],
   "source": [
    "# count missing values in each column\n",
    "cols= weather.columns\n",
    "cols.remove('weather_date')\n",
    "missing_values= weather.select([F.count(F.when(F.col(c).isNull() | F.isnan(c), c)).alias(c) for c in cols])"
   ]
  },
  {
   "cell_type": "code",
   "execution_count": 26,
   "id": "e279bebd",
   "metadata": {
    "scrolled": true
   },
   "outputs": [
    {
     "name": "stderr",
     "output_type": "stream",
     "text": [
      "\r",
      "[Stage 24:>                                                         (0 + 1) / 1]\r"
     ]
    },
    {
     "name": "stdout",
     "output_type": "stream",
     "text": [
      "+---------+------------+------------+--------+---------+------+----------+--------+----------+----+---------+-----------+--------------+-------+------+----+-------+-------+--------+-------+----------+-------+--------+---------+\n",
      "|feelslike|feelslikemax|feelslikemin|humidity|moonphase|precip|precipprob|pressure|severerisk|snow|snowdepth|solarenergy|solarradiation|sunrise|sunset|temp|tempmax|tempmin|tzoffset|uvindex|visibility|winddir|windgust|windspeed|\n",
      "+---------+------------+------------+--------+---------+------+----------+--------+----------+----+---------+-----------+--------------+-------+------+----+-------+-------+--------+-------+----------+-------+--------+---------+\n",
      "|        0|           0|           0|       0|        0|     0|       374|       1|       374| 374|      365|          0|             0|      0|     0|   0|      0|      0|     179|      0|         0|      0|     229|        0|\n",
      "+---------+------------+------------+--------+---------+------+----------+--------+----------+----+---------+-----------+--------------+-------+------+----+-------+-------+--------+-------+----------+-------+--------+---------+\n",
      "\n"
     ]
    },
    {
     "name": "stderr",
     "output_type": "stream",
     "text": [
      "\r",
      "                                                                                \r"
     ]
    }
   ],
   "source": [
    "missing_values.show()"
   ]
  },
  {
   "cell_type": "code",
   "execution_count": 32,
   "id": "49d42f95",
   "metadata": {
    "scrolled": true
   },
   "outputs": [
    {
     "name": "stderr",
     "output_type": "stream",
     "text": [
      "\r",
      "[Stage 33:>                                                         (0 + 1) / 1]\r"
     ]
    },
    {
     "name": "stdout",
     "output_type": "stream",
     "text": [
      "+---------+------------+------------+--------+---------+------+----------+--------+----------+----+---------+-----------+--------------+-------+------+----+-------+-------+--------+-------+----------+-------+--------+---------+\n",
      "|feelslike|feelslikemax|feelslikemin|humidity|moonphase|precip|precipprob|pressure|severerisk|snow|snowdepth|solarenergy|solarradiation|sunrise|sunset|temp|tempmax|tempmin|tzoffset|uvindex|visibility|winddir|windgust|windspeed|\n",
      "+---------+------------+------------+--------+---------+------+----------+--------+----------+----+---------+-----------+--------------+-------+------+----+-------+-------+--------+-------+----------+-------+--------+---------+\n",
      "|      0.0|         0.0|         0.0|     0.0|      0.0|   0.0|      0.94|     0.0|      0.94|0.94|     0.92|        0.0|           0.0|    0.0|   0.0| 0.0|    0.0|    0.0|    0.45|    0.0|       0.0|    0.0|    0.58|      0.0|\n",
      "+---------+------------+------------+--------+---------+------+----------+--------+----------+----+---------+-----------+--------------+-------+------+----+-------+-------+--------+-------+----------+-------+--------+---------+\n",
      "\n"
     ]
    },
    {
     "name": "stderr",
     "output_type": "stream",
     "text": [
      "\r",
      "                                                                                \r"
     ]
    }
   ],
   "source": [
    "perc_missing_values= (\n",
    "    weather.select([\n",
    "        F.round(F.count(F.when(F.isnan(c) | F.col(c).isNull(), c))/F.count(F.lit(1)),2)\n",
    "        .alias(c) for c in cols\n",
    "    ])\n",
    ")\n",
    "perc_missing_values.show()"
   ]
  },
  {
   "cell_type": "code",
   "execution_count": 28,
   "id": "61e4c2fd",
   "metadata": {},
   "outputs": [
    {
     "data": {
      "text/plain": [
       "['weather_date',\n",
       " 'feelslike',\n",
       " 'feelslikemax',\n",
       " 'feelslikemin',\n",
       " 'humidity',\n",
       " 'moonphase',\n",
       " 'precip',\n",
       " 'pressure',\n",
       " 'solarenergy',\n",
       " 'solarradiation',\n",
       " 'sunrise',\n",
       " 'sunset',\n",
       " 'temp',\n",
       " 'tempmax',\n",
       " 'tempmin',\n",
       " 'tzoffset',\n",
       " 'uvindex',\n",
       " 'visibility',\n",
       " 'winddir',\n",
       " 'windgust',\n",
       " 'windspeed']"
      ]
     },
     "execution_count": 28,
     "metadata": {},
     "output_type": "execute_result"
    }
   ],
   "source": [
    "# drop columns where missing values are more than 70%\n",
    "\n",
    "weather= weather.drop('precipprob', 'snow', 'snowdepth')\n",
    "\n",
    "if 'severerisk' in weather.columns:\n",
    "    weather= weather.drop('severerisk')\n",
    "\n",
    "weather.columns"
   ]
  },
  {
   "cell_type": "code",
   "execution_count": 29,
   "id": "c1714e54",
   "metadata": {},
   "outputs": [
    {
     "name": "stderr",
     "output_type": "stream",
     "text": [
      "                                                                                \r"
     ]
    }
   ],
   "source": [
    "weather= weather.repartition(10)\n",
    "\n",
    "weather.write.parquet('s3a://hrc-de-data/processed/cycling-dimension/weather/', mode='overwrite')"
   ]
  },
  {
   "cell_type": "code",
   "execution_count": null,
   "id": "2bbb74b9",
   "metadata": {},
   "outputs": [],
   "source": []
  }
 ],
 "metadata": {
  "kernelspec": {
   "display_name": "Python 3 (ipykernel)",
   "language": "python",
   "name": "python3"
  },
  "language_info": {
   "codemirror_mode": {
    "name": "ipython",
    "version": 3
   },
   "file_extension": ".py",
   "mimetype": "text/x-python",
   "name": "python",
   "nbconvert_exporter": "python",
   "pygments_lexer": "ipython3",
   "version": "3.8.10"
  }
 },
 "nbformat": 4,
 "nbformat_minor": 5
}
